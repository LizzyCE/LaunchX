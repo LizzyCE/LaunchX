{
 "cells": [
  {
   "cell_type": "markdown",
   "metadata": {},
   "source": [
    "## Ejercicio 1 - Utilizar operadores aritméticos"
   ]
  },
  {
   "cell_type": "code",
   "execution_count": 8,
   "metadata": {},
   "outputs": [
    {
     "name": "stdout",
     "output_type": "stream",
     "text": [
      "La distancia entre Tierra y Jupiter en km: 628956330 km\n",
      "La distancia entre Tierra y Jupiter en millas: 390581880.93 millas\n"
     ]
    }
   ],
   "source": [
    "tierra = 149590870\n",
    "jupiter = 778547200\n",
    "\n",
    "distancia = jupiter - tierra\n",
    "\n",
    "print(\"La distancia entre Tierra y Jupiter en km: \"+ str(distancia)+ \" km\")\n",
    "\n",
    "#Distancia en millas\n",
    "# 1km = 0.621 millas\n",
    "milla_jupiter = jupiter * 0.621\n",
    "milla_tierra = tierra * 0.621\n",
    "\n",
    "dis_millas = milla_jupiter - milla_tierra\n",
    "\n",
    "print(\"La distancia entre Tierra y Jupiter en millas: \"+ str(dis_millas)+ \" millas\")\n",
    "\n"
   ]
  },
  {
   "cell_type": "markdown",
   "metadata": {},
   "source": [
    "## Ejercicio 2: Convierte cadenas en números y usa valores absolutos"
   ]
  },
  {
   "cell_type": "code",
   "execution_count": 9,
   "metadata": {},
   "outputs": [
    {
     "name": "stdout",
     "output_type": "stream",
     "text": [
      "La distancia entre Tierra y Mercurio es: 91700000 km\n",
      "La distancia Tierra y Mercurio es: 56945700.0 millas\n"
     ]
    }
   ],
   "source": [
    "nombre_planeta1 = input(\"1er planeta: \")\n",
    "planet_1 = input('Distancia 1er planeta en km: ')\n",
    "nombre_planeta2 = input(\"2do planeta: \")\n",
    "planet_2 = input('Distancia 2do planeta en km: ')\n",
    "\n",
    "planet1 = int(planet_1)\n",
    "planet2 = int(planet_2)\n",
    "\n",
    "#kilometros\n",
    "distancia_km = planet1 - planet2\n",
    "\n",
    "print(\"La distancia entre \" + nombre_planeta1 + \" y \" + nombre_planeta2 + \" es: \" + str(distancia_km) + \" km\")\n",
    "\n",
    "#millas\n",
    "\n",
    "distancia_mi = distancia_km * 0.621\n",
    "\n",
    "print(\"La distancia \" + nombre_planeta1 + \" y \" + nombre_planeta2 + \" es: \" + str(abs(distancia_mi)) + \" millas\")\n",
    "\n",
    "\n"
   ]
  }
 ],
 "metadata": {
  "interpreter": {
   "hash": "916dbcbb3f70747c44a77c7bcd40155683ae19c65e1c03b4aa3499c5328201f1"
  },
  "kernelspec": {
   "display_name": "Python 3.8.10 64-bit",
   "language": "python",
   "name": "python3"
  },
  "language_info": {
   "codemirror_mode": {
    "name": "ipython",
    "version": 3
   },
   "file_extension": ".py",
   "mimetype": "text/x-python",
   "name": "python",
   "nbconvert_exporter": "python",
   "pygments_lexer": "ipython3",
   "version": "3.8.10"
  },
  "orig_nbformat": 4
 },
 "nbformat": 4,
 "nbformat_minor": 2
}
