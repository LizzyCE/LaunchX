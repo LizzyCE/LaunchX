{
 "cells": [
  {
   "cell_type": "markdown",
   "metadata": {},
   "source": [
    "## Ejercicio 1\n"
   ]
  },
  {
   "cell_type": "code",
   "execution_count": 9,
   "metadata": {},
   "outputs": [
    {
     "name": "stdout",
     "output_type": "stream",
     "text": [
      "¡Advertencia! ¡Asteroide se aproxima con velocidad rápida!\n"
     ]
    }
   ],
   "source": [
    "v = 49\n",
    "if v > 25:\n",
    " \n",
    " print(\"¡Advertencia! ¡Asteroide se aproxima con velocidad rápida!\")\n",
    "\n",
    "else:\n",
    "  print(\"No hay alertas\")   \n"
   ]
  },
  {
   "cell_type": "markdown",
   "metadata": {},
   "source": [
    "## Ejercicio 2"
   ]
  },
  {
   "cell_type": "code",
   "execution_count": 11,
   "metadata": {},
   "outputs": [
    {
     "name": "stdout",
     "output_type": "stream",
     "text": [
      "¡Alerta!¡Asteroide en camino!\n"
     ]
    }
   ],
   "source": [
    "ast = 19\n",
    "\n",
    "if ast >= 20:\n",
    "    print(\"¡Alerta!¡Asteroide en camino!¡Produce rayo!\")\n",
    "\n",
    "elif ast <= 20: \n",
    "    print(\"¡Alerta!¡Asteroide en camino!\")\n",
    "\n",
    "else:\n",
    "    print(\"No hay alertas\")         "
   ]
  },
  {
   "cell_type": "markdown",
   "metadata": {},
   "source": [
    "## Ejercicio 3"
   ]
  },
  {
   "cell_type": "code",
   "execution_count": 1,
   "metadata": {},
   "outputs": [
    {
     "name": "stdout",
     "output_type": "stream",
     "text": [
      "¡Alerta!¡Asteroide en camino!¡Produce rayo!\n"
     ]
    }
   ],
   "source": [
    "v_ast = 25\n",
    "t_ast = 40\n",
    "if v_ast > 25 and t_ast > 25:\n",
    "    print('¡Alerta! ¡Asteroide peligroso se aproxima a la tierra!')\n",
    "elif v_ast >= 20:\n",
    "    print(\"¡Alerta!¡Asteroide en camino!¡Produce rayo!\")\n",
    "elif t_ast < 25:\n",
    "    print(\"No hay alertas\")\n",
    "else:\n",
    "    print(\"No hay alertas\")"
   ]
  }
 ],
 "metadata": {
  "interpreter": {
   "hash": "916dbcbb3f70747c44a77c7bcd40155683ae19c65e1c03b4aa3499c5328201f1"
  },
  "kernelspec": {
   "display_name": "Python 3.8.10 64-bit",
   "language": "python",
   "name": "python3"
  },
  "language_info": {
   "codemirror_mode": {
    "name": "ipython",
    "version": 3
   },
   "file_extension": ".py",
   "mimetype": "text/x-python",
   "name": "python",
   "nbconvert_exporter": "python",
   "pygments_lexer": "ipython3",
   "version": "3.8.10"
  },
  "orig_nbformat": 4
 },
 "nbformat": 4,
 "nbformat_minor": 2
}
