{
 "cells": [
  {
   "cell_type": "markdown",
   "metadata": {},
   "source": [
    "## Ejercicio 1: Crear y usar listas"
   ]
  },
  {
   "cell_type": "code",
   "execution_count": 21,
   "metadata": {},
   "outputs": [
    {
     "name": "stdout",
     "output_type": "stream",
     "text": [
      "\n",
      "There are 8 planets in the solar system.\n",
      "\n",
      "There are actually 9 planets in the solar system.\n",
      "\n",
      "The last planet is Pluto in the solar system.\n"
     ]
    }
   ],
   "source": [
    "#Crea y muestra cuantos planetas hay\n",
    "planets = ['Mercury', 'Venus', 'Earth', 'Mars', 'Jupiter', 'Saturn', 'Uranus', 'Neptune']\n",
    "number_of_planets = len(planets)\n",
    "print('\\nThere are', number_of_planets, 'planets in the solar system.')\n",
    "\n",
    "#Agrega planetas\n",
    "planets.append('Pluto')\n",
    "number_of_planets = len(planets)\n",
    "print('\\nThere are actually', number_of_planets, 'planets in the solar system.')\n",
    "\n",
    "#Last planet\n",
    "print(\"\\nThe last planet is\", planets[-1], \"in the solar system.\")\n"
   ]
  },
  {
   "cell_type": "markdown",
   "metadata": {},
   "source": [
    "## Ejercicio 2: Trabajando con datos de una lista"
   ]
  },
  {
   "cell_type": "code",
   "execution_count": 27,
   "metadata": {},
   "outputs": [
    {
     "name": "stdout",
     "output_type": "stream",
     "text": [
      "Planet:  Venus\n",
      "\n",
      "Venus is the 2 planet from the sun\n",
      "\n",
      "Here are the planets closer than Venus: ['Mercury']\n",
      "\n",
      "Here are the planets further than Venus: ['Earth', 'Mars', 'Jupiter', 'Saturn', 'Neptune']\n"
     ]
    }
   ],
   "source": [
    "planets = ['Mercury', 'Venus', 'Earth', 'Mars', 'Jupiter', 'Saturn', 'Neptune']\n",
    "\n",
    "#Input user\n",
    "name_planet = input(\"Enter the name of a planet (please use capital letter at the beginning): \")\n",
    "\n",
    "#Name planet\n",
    "print(\"Planet: \", name_planet)\n",
    "\n",
    "#Looking for planet\n",
    "planet_index = planets.index(name_planet)\n",
    "\n",
    "#Planet number\n",
    "print(\"\\n\"+name_planet, \"is the\", planet_index+1, \"planet from the sun\")\n",
    "\n",
    "#Closer\n",
    "print('\\nHere are the planets closer than '+name_planet+\":\",planets[0:planet_index] )\n",
    "\n",
    "#Further\n",
    "print('\\nHere are the planets further than '+ name_planet+\":\",planets[planet_index + 1:])\n",
    "\n"
   ]
  }
 ],
 "metadata": {
  "interpreter": {
   "hash": "916dbcbb3f70747c44a77c7bcd40155683ae19c65e1c03b4aa3499c5328201f1"
  },
  "kernelspec": {
   "display_name": "Python 3.8.10 64-bit",
   "language": "python",
   "name": "python3"
  },
  "language_info": {
   "codemirror_mode": {
    "name": "ipython",
    "version": 3
   },
   "file_extension": ".py",
   "mimetype": "text/x-python",
   "name": "python",
   "nbconvert_exporter": "python",
   "pygments_lexer": "ipython3",
   "version": "3.8.10"
  },
  "orig_nbformat": 4
 },
 "nbformat": 4,
 "nbformat_minor": 2
}
